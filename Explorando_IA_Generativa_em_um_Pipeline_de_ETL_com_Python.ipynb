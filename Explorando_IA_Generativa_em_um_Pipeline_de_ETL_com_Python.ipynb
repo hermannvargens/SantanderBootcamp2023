{
  "nbformat": 4,
  "nbformat_minor": 0,
  "metadata": {
    "colab": {
      "provenance": [],
      "authorship_tag": "ABX9TyNqwY3bZPNamcejYLuRGCsV",
      "include_colab_link": true
    },
    "kernelspec": {
      "name": "python3",
      "display_name": "Python 3"
    },
    "language_info": {
      "name": "python"
    }
  },
  "cells": [
    {
      "cell_type": "markdown",
      "metadata": {
        "id": "view-in-github",
        "colab_type": "text"
      },
      "source": [
        "<a href=\"https://colab.research.google.com/github/hermannvargens/SantanderBootcamp2023/blob/main/Explorando_IA_Generativa_em_um_Pipeline_de_ETL_com_Python.ipynb\" target=\"_parent\"><img src=\"https://colab.research.google.com/assets/colab-badge.svg\" alt=\"Open In Colab\"/></a>"
      ]
    },
    {
      "cell_type": "markdown",
      "source": [
        "Para este primeiro desafio, a fim de seguir os três processos de Extração, Transformação e Carregamento (ETL), decidi criar um programa para o setor financeiro que irá analisar o valor da fatura de cartão de crédito de cada cliente e seu saldo bancário, em seguida ele verificará se há saldo suficente para pagamento da fatura e, caso não haja, deverá criar uma mensagem oferencendo empréstimo ao cliente.  \n",
        "  \n",
        "Uma vez que não encontrei um conjunto de dados com esses dados, especificamente, criei eu mesmo, utilizando a biblioteca \"random\" do Python. Em seguida guardei o dataset como um arquivo CSV, para posteriormente proceder a ETL."
      ],
      "metadata": {
        "id": "DMRRxehjNmBW"
      }
    },
    {
      "cell_type": "markdown",
      "source": [
        "# Criação do dataset"
      ],
      "metadata": {
        "id": "3bpB327vjlxa"
      }
    },
    {
      "cell_type": "code",
      "source": [
        "import pandas as pd\n",
        "import random"
      ],
      "metadata": {
        "id": "IA4AjpqxXK7m"
      },
      "execution_count": null,
      "outputs": []
    },
    {
      "cell_type": "code",
      "source": [
        "ID = [ID for ID in range(11)]\n",
        "print(ID)"
      ],
      "metadata": {
        "colab": {
          "base_uri": "https://localhost:8080/"
        },
        "id": "bkpHgd7uY0o-",
        "outputId": "a16b5608-a3e5-4fd1-9db3-eaaec52fbb6d"
      },
      "execution_count": null,
      "outputs": [
        {
          "output_type": "stream",
          "name": "stdout",
          "text": [
            "[0, 1, 2, 3, 4, 5, 6, 7, 8, 9, 10]\n"
          ]
        }
      ]
    },
    {
      "cell_type": "code",
      "source": [
        "SaldoConta = [round(1000*random.random(),2) for saldo in ID]\n",
        "print(SaldoConta)"
      ],
      "metadata": {
        "colab": {
          "base_uri": "https://localhost:8080/"
        },
        "id": "bLuAFdjkZVqX",
        "outputId": "26ab33a0-2652-40d5-d79f-f9eb19998851"
      },
      "execution_count": null,
      "outputs": [
        {
          "output_type": "stream",
          "name": "stdout",
          "text": [
            "[39.3, 963.75, 389.44, 559.16, 81.2, 15.67, 987.28, 64.19, 716.16, 454.85, 176.51]\n"
          ]
        }
      ]
    },
    {
      "cell_type": "code",
      "source": [
        "FaturaCartao = [round(1000*random.random(),2) for fatura in ID]\n",
        "print(FaturaCartao)"
      ],
      "metadata": {
        "colab": {
          "base_uri": "https://localhost:8080/"
        },
        "id": "G73fMfuLZnle",
        "outputId": "4eb607bd-5231-4096-abd0-c2cbecbd0f99"
      },
      "execution_count": null,
      "outputs": [
        {
          "output_type": "stream",
          "name": "stdout",
          "text": [
            "[740.36, 128.6, 758.26, 637.64, 683.03, 962.01, 354.49, 468.37, 286.11, 163.26, 265.17]\n"
          ]
        }
      ]
    },
    {
      "cell_type": "code",
      "source": [
        "dados_clientes = pd.DataFrame({'ID':ID, 'SaldoConta':SaldoConta,'FaturaCartao':FaturaCartao})\n",
        "print(dados_clientes)"
      ],
      "metadata": {
        "colab": {
          "base_uri": "https://localhost:8080/"
        },
        "id": "bijEvqsNaMaO",
        "outputId": "9032ce0c-8538-443c-bfed-e49dd3d80d76"
      },
      "execution_count": null,
      "outputs": [
        {
          "output_type": "stream",
          "name": "stdout",
          "text": [
            "    ID  SaldoConta  FaturaCartao\n",
            "0    0       39.30        740.36\n",
            "1    1      963.75        128.60\n",
            "2    2      389.44        758.26\n",
            "3    3      559.16        637.64\n",
            "4    4       81.20        683.03\n",
            "5    5       15.67        962.01\n",
            "6    6      987.28        354.49\n",
            "7    7       64.19        468.37\n",
            "8    8      716.16        286.11\n",
            "9    9      454.85        163.26\n",
            "10  10      176.51        265.17\n"
          ]
        }
      ]
    },
    {
      "cell_type": "code",
      "source": [
        "try:\n",
        "  dados_clientes.to_csv('dados_clientes.csv', index=False)\n",
        "  print('Dados gravados em arquivo csv.')\n",
        "except:\n",
        "  print('Os dados não foram gravados.')"
      ],
      "metadata": {
        "colab": {
          "base_uri": "https://localhost:8080/"
        },
        "id": "fBGJc8L6jpop",
        "outputId": "2f463d08-f017-469c-81c9-6709dc10272f"
      },
      "execution_count": null,
      "outputs": [
        {
          "output_type": "stream",
          "name": "stdout",
          "text": [
            "Dados gravados em arquivo csv.\n"
          ]
        }
      ]
    },
    {
      "cell_type": "markdown",
      "source": [
        "# Extract"
      ],
      "metadata": {
        "id": "XnRBsQyrkqIa"
      }
    },
    {
      "cell_type": "markdown",
      "source": [
        "Vamos extrair os dados utilizando o método \"read_csv\" da biblioteca Pandas:"
      ],
      "metadata": {
        "id": "rrxbi-2gks-4"
      }
    },
    {
      "cell_type": "code",
      "source": [
        "dados_clientes = pd.read_csv('dados_clientes.csv')\n",
        "dados_clientes"
      ],
      "metadata": {
        "colab": {
          "base_uri": "https://localhost:8080/",
          "height": 394
        },
        "id": "PicobRFzk00C",
        "outputId": "1f838331-ac1a-4d6d-cc0f-f49086ca932a"
      },
      "execution_count": null,
      "outputs": [
        {
          "output_type": "execute_result",
          "data": {
            "text/plain": [
              "    ID  SaldoConta  FaturaCartao\n",
              "0    0       39.30        740.36\n",
              "1    1      963.75        128.60\n",
              "2    2      389.44        758.26\n",
              "3    3      559.16        637.64\n",
              "4    4       81.20        683.03\n",
              "5    5       15.67        962.01\n",
              "6    6      987.28        354.49\n",
              "7    7       64.19        468.37\n",
              "8    8      716.16        286.11\n",
              "9    9      454.85        163.26\n",
              "10  10      176.51        265.17"
            ],
            "text/html": [
              "\n",
              "  <div id=\"df-6c63b0ee-fd79-497d-be60-718c3537f56e\" class=\"colab-df-container\">\n",
              "    <div>\n",
              "<style scoped>\n",
              "    .dataframe tbody tr th:only-of-type {\n",
              "        vertical-align: middle;\n",
              "    }\n",
              "\n",
              "    .dataframe tbody tr th {\n",
              "        vertical-align: top;\n",
              "    }\n",
              "\n",
              "    .dataframe thead th {\n",
              "        text-align: right;\n",
              "    }\n",
              "</style>\n",
              "<table border=\"1\" class=\"dataframe\">\n",
              "  <thead>\n",
              "    <tr style=\"text-align: right;\">\n",
              "      <th></th>\n",
              "      <th>ID</th>\n",
              "      <th>SaldoConta</th>\n",
              "      <th>FaturaCartao</th>\n",
              "    </tr>\n",
              "  </thead>\n",
              "  <tbody>\n",
              "    <tr>\n",
              "      <th>0</th>\n",
              "      <td>0</td>\n",
              "      <td>39.30</td>\n",
              "      <td>740.36</td>\n",
              "    </tr>\n",
              "    <tr>\n",
              "      <th>1</th>\n",
              "      <td>1</td>\n",
              "      <td>963.75</td>\n",
              "      <td>128.60</td>\n",
              "    </tr>\n",
              "    <tr>\n",
              "      <th>2</th>\n",
              "      <td>2</td>\n",
              "      <td>389.44</td>\n",
              "      <td>758.26</td>\n",
              "    </tr>\n",
              "    <tr>\n",
              "      <th>3</th>\n",
              "      <td>3</td>\n",
              "      <td>559.16</td>\n",
              "      <td>637.64</td>\n",
              "    </tr>\n",
              "    <tr>\n",
              "      <th>4</th>\n",
              "      <td>4</td>\n",
              "      <td>81.20</td>\n",
              "      <td>683.03</td>\n",
              "    </tr>\n",
              "    <tr>\n",
              "      <th>5</th>\n",
              "      <td>5</td>\n",
              "      <td>15.67</td>\n",
              "      <td>962.01</td>\n",
              "    </tr>\n",
              "    <tr>\n",
              "      <th>6</th>\n",
              "      <td>6</td>\n",
              "      <td>987.28</td>\n",
              "      <td>354.49</td>\n",
              "    </tr>\n",
              "    <tr>\n",
              "      <th>7</th>\n",
              "      <td>7</td>\n",
              "      <td>64.19</td>\n",
              "      <td>468.37</td>\n",
              "    </tr>\n",
              "    <tr>\n",
              "      <th>8</th>\n",
              "      <td>8</td>\n",
              "      <td>716.16</td>\n",
              "      <td>286.11</td>\n",
              "    </tr>\n",
              "    <tr>\n",
              "      <th>9</th>\n",
              "      <td>9</td>\n",
              "      <td>454.85</td>\n",
              "      <td>163.26</td>\n",
              "    </tr>\n",
              "    <tr>\n",
              "      <th>10</th>\n",
              "      <td>10</td>\n",
              "      <td>176.51</td>\n",
              "      <td>265.17</td>\n",
              "    </tr>\n",
              "  </tbody>\n",
              "</table>\n",
              "</div>\n",
              "    <div class=\"colab-df-buttons\">\n",
              "\n",
              "  <div class=\"colab-df-container\">\n",
              "    <button class=\"colab-df-convert\" onclick=\"convertToInteractive('df-6c63b0ee-fd79-497d-be60-718c3537f56e')\"\n",
              "            title=\"Convert this dataframe to an interactive table.\"\n",
              "            style=\"display:none;\">\n",
              "\n",
              "  <svg xmlns=\"http://www.w3.org/2000/svg\" height=\"24px\" viewBox=\"0 -960 960 960\">\n",
              "    <path d=\"M120-120v-720h720v720H120Zm60-500h600v-160H180v160Zm220 220h160v-160H400v160Zm0 220h160v-160H400v160ZM180-400h160v-160H180v160Zm440 0h160v-160H620v160ZM180-180h160v-160H180v160Zm440 0h160v-160H620v160Z\"/>\n",
              "  </svg>\n",
              "    </button>\n",
              "\n",
              "  <style>\n",
              "    .colab-df-container {\n",
              "      display:flex;\n",
              "      gap: 12px;\n",
              "    }\n",
              "\n",
              "    .colab-df-convert {\n",
              "      background-color: #E8F0FE;\n",
              "      border: none;\n",
              "      border-radius: 50%;\n",
              "      cursor: pointer;\n",
              "      display: none;\n",
              "      fill: #1967D2;\n",
              "      height: 32px;\n",
              "      padding: 0 0 0 0;\n",
              "      width: 32px;\n",
              "    }\n",
              "\n",
              "    .colab-df-convert:hover {\n",
              "      background-color: #E2EBFA;\n",
              "      box-shadow: 0px 1px 2px rgba(60, 64, 67, 0.3), 0px 1px 3px 1px rgba(60, 64, 67, 0.15);\n",
              "      fill: #174EA6;\n",
              "    }\n",
              "\n",
              "    .colab-df-buttons div {\n",
              "      margin-bottom: 4px;\n",
              "    }\n",
              "\n",
              "    [theme=dark] .colab-df-convert {\n",
              "      background-color: #3B4455;\n",
              "      fill: #D2E3FC;\n",
              "    }\n",
              "\n",
              "    [theme=dark] .colab-df-convert:hover {\n",
              "      background-color: #434B5C;\n",
              "      box-shadow: 0px 1px 3px 1px rgba(0, 0, 0, 0.15);\n",
              "      filter: drop-shadow(0px 1px 2px rgba(0, 0, 0, 0.3));\n",
              "      fill: #FFFFFF;\n",
              "    }\n",
              "  </style>\n",
              "\n",
              "    <script>\n",
              "      const buttonEl =\n",
              "        document.querySelector('#df-6c63b0ee-fd79-497d-be60-718c3537f56e button.colab-df-convert');\n",
              "      buttonEl.style.display =\n",
              "        google.colab.kernel.accessAllowed ? 'block' : 'none';\n",
              "\n",
              "      async function convertToInteractive(key) {\n",
              "        const element = document.querySelector('#df-6c63b0ee-fd79-497d-be60-718c3537f56e');\n",
              "        const dataTable =\n",
              "          await google.colab.kernel.invokeFunction('convertToInteractive',\n",
              "                                                    [key], {});\n",
              "        if (!dataTable) return;\n",
              "\n",
              "        const docLinkHtml = 'Like what you see? Visit the ' +\n",
              "          '<a target=\"_blank\" href=https://colab.research.google.com/notebooks/data_table.ipynb>data table notebook</a>'\n",
              "          + ' to learn more about interactive tables.';\n",
              "        element.innerHTML = '';\n",
              "        dataTable['output_type'] = 'display_data';\n",
              "        await google.colab.output.renderOutput(dataTable, element);\n",
              "        const docLink = document.createElement('div');\n",
              "        docLink.innerHTML = docLinkHtml;\n",
              "        element.appendChild(docLink);\n",
              "      }\n",
              "    </script>\n",
              "  </div>\n",
              "\n",
              "\n",
              "<div id=\"df-b0e128bb-e8a2-4ce3-ac56-a8fe42305b86\">\n",
              "  <button class=\"colab-df-quickchart\" onclick=\"quickchart('df-b0e128bb-e8a2-4ce3-ac56-a8fe42305b86')\"\n",
              "            title=\"Suggest charts.\"\n",
              "            style=\"display:none;\">\n",
              "\n",
              "<svg xmlns=\"http://www.w3.org/2000/svg\" height=\"24px\"viewBox=\"0 0 24 24\"\n",
              "     width=\"24px\">\n",
              "    <g>\n",
              "        <path d=\"M19 3H5c-1.1 0-2 .9-2 2v14c0 1.1.9 2 2 2h14c1.1 0 2-.9 2-2V5c0-1.1-.9-2-2-2zM9 17H7v-7h2v7zm4 0h-2V7h2v10zm4 0h-2v-4h2v4z\"/>\n",
              "    </g>\n",
              "</svg>\n",
              "  </button>\n",
              "\n",
              "<style>\n",
              "  .colab-df-quickchart {\n",
              "    background-color: #E8F0FE;\n",
              "    border: none;\n",
              "    border-radius: 50%;\n",
              "    cursor: pointer;\n",
              "    display: none;\n",
              "    fill: #1967D2;\n",
              "    height: 32px;\n",
              "    padding: 0 0 0 0;\n",
              "    width: 32px;\n",
              "  }\n",
              "\n",
              "  .colab-df-quickchart:hover {\n",
              "    background-color: #E2EBFA;\n",
              "    box-shadow: 0px 1px 2px rgba(60, 64, 67, 0.3), 0px 1px 3px 1px rgba(60, 64, 67, 0.15);\n",
              "    fill: #174EA6;\n",
              "  }\n",
              "\n",
              "  [theme=dark] .colab-df-quickchart {\n",
              "    background-color: #3B4455;\n",
              "    fill: #D2E3FC;\n",
              "  }\n",
              "\n",
              "  [theme=dark] .colab-df-quickchart:hover {\n",
              "    background-color: #434B5C;\n",
              "    box-shadow: 0px 1px 3px 1px rgba(0, 0, 0, 0.15);\n",
              "    filter: drop-shadow(0px 1px 2px rgba(0, 0, 0, 0.3));\n",
              "    fill: #FFFFFF;\n",
              "  }\n",
              "</style>\n",
              "\n",
              "  <script>\n",
              "    async function quickchart(key) {\n",
              "      const charts = await google.colab.kernel.invokeFunction(\n",
              "          'suggestCharts', [key], {});\n",
              "    }\n",
              "    (() => {\n",
              "      let quickchartButtonEl =\n",
              "        document.querySelector('#df-b0e128bb-e8a2-4ce3-ac56-a8fe42305b86 button');\n",
              "      quickchartButtonEl.style.display =\n",
              "        google.colab.kernel.accessAllowed ? 'block' : 'none';\n",
              "    })();\n",
              "  </script>\n",
              "</div>\n",
              "    </div>\n",
              "  </div>\n"
            ]
          },
          "metadata": {},
          "execution_count": 7
        }
      ]
    },
    {
      "cell_type": "markdown",
      "source": [
        " # Transform"
      ],
      "metadata": {
        "id": "vCvDkop5lI6q"
      }
    },
    {
      "cell_type": "markdown",
      "source": [
        "Vamos agora realizar uma transformação nos dados, utilizando o Google Bard, outro grande modelo de linguagem, semelhante ao ChatGPT da OpenAI, para gerar mensagens de marketing para os clientes do banco que necessitam de empréstimo.  \n",
        "  \n",
        "A função irá definir se o cliente precisa ou não de empréstimo para os casos em que o Saldo da Conta ('SaldoConta') for menor que o valor da Fatura do Cartão ('FaturaCartão')."
      ],
      "metadata": {
        "id": "_JAMCaigtgST"
      }
    },
    {
      "cell_type": "code",
      "source": [
        "from bardapi import Bard\n",
        "\n",
        "token = 'XXXXXXXXXXXXXXXXXXXXXXXXXXXXXXXXXXXXXXXXXXXXXXXXXXXXXXXXXXXXXXXXXXXXXXXXXXXXXXXXX' #apagado por motivos de segurança\n",
        "bard = Bard(token=token)"
      ],
      "metadata": {
        "id": "iMY4cWk7pKjz"
      },
      "execution_count": null,
      "outputs": []
    },
    {
      "cell_type": "code",
      "source": [
        "def mensagem(ID):\n",
        "  return \"Cliente ok!\" if dados_clientes['SaldoConta'][ID] > dados_clientes['FaturaCartao'][ID] else bard.get_answer(\"Crie uma mensagem de marketing de apenas 1 linha oferecendo um empréstimo para pagar as contas.\")['content']"
      ],
      "metadata": {
        "id": "umc5SB-xpcxi"
      },
      "execution_count": null,
      "outputs": []
    },
    {
      "cell_type": "code",
      "source": [
        "#Agora utilizamos a função MAP para aplicar a função criada (status) para cada ID\n",
        "\n",
        "dados_clientes['Status'] = list(map(mensagem,dados_clientes['ID']))\n",
        "print(dados_clientes)"
      ],
      "metadata": {
        "colab": {
          "base_uri": "https://localhost:8080/"
        },
        "id": "Egz_vnNAr6Dr",
        "outputId": "285dc596-ec44-410c-d927-e9ad533cf7e5"
      },
      "execution_count": null,
      "outputs": [
        {
          "output_type": "stream",
          "name": "stdout",
          "text": [
            "    ID  SaldoConta  FaturaCartao  \\\n",
            "0    0       39.30        740.36   \n",
            "1    1      963.75        128.60   \n",
            "2    2      389.44        758.26   \n",
            "3    3      559.16        637.64   \n",
            "4    4       81.20        683.03   \n",
            "5    5       15.67        962.01   \n",
            "6    6      987.28        354.49   \n",
            "7    7       64.19        468.37   \n",
            "8    8      716.16        286.11   \n",
            "9    9      454.85        163.26   \n",
            "10  10      176.51        265.17   \n",
            "\n",
            "                                               Status  \n",
            "0   Aqui está uma mensagem de marketing de 1 linha...  \n",
            "1                                         Cliente ok!  \n",
            "2   Aqui está uma mensagem de marketing de 1 linha...  \n",
            "3   Aqui está uma mensagem de marketing de 1 linha...  \n",
            "4   **Pague suas contas em dias.**\\n\\nEssa mensage...  \n",
            "5   **Dinheiro para as contas.**\\n\\nEssa mensagem ...  \n",
            "6                                         Cliente ok!  \n",
            "7   **Contas em dia, vida em dia.**\\n\\nEssa mensag...  \n",
            "8                                         Cliente ok!  \n",
            "9                                         Cliente ok!  \n",
            "10  **Pague suas contas sem estresse.**\\n\\nEssa me...  \n"
          ]
        }
      ]
    },
    {
      "cell_type": "markdown",
      "source": [
        "Vamos observar um exemplo do texto inteiro obtido com o Google Bard.  \n",
        "Verificamos que embora tenhamos pedido que ele criasse uma mensagem com apenas 1 linha, foram retornados várrias outras mensagens e explicações."
      ],
      "metadata": {
        "id": "tAGHF6Dgxd1N"
      }
    },
    {
      "cell_type": "code",
      "source": [
        "dados_clientes['Status'][0]"
      ],
      "metadata": {
        "id": "6uTmxIpysQxK",
        "colab": {
          "base_uri": "https://localhost:8080/",
          "height": 90
        },
        "outputId": "4efbe7db-cecc-4cc6-eb9b-c40d2c8a1e27"
      },
      "execution_count": null,
      "outputs": [
        {
          "output_type": "execute_result",
          "data": {
            "text/plain": [
              "'Aqui está uma mensagem de marketing de 1 linha oferecendo um empréstimo para pagar as contas:\\n\\n**Contas em atraso? Peça um empréstimo hoje!**\\n\\nEssa mensagem é simples e direta, e vai direto ao ponto. Ela chama a atenção do leitor e transmite a mensagem de que o empréstimo é uma solução para quem está com contas em atraso.\\n\\nAqui está outra opção:\\n\\n**Empréstimo rápido para pagar as contas**\\n\\nEssa mensagem também é simples e direta, mas enfatiza a velocidade do processo de aprovação do empréstimo. Isso pode ser atraente para quem precisa de dinheiro com urgência.\\n\\nEm última análise, a melhor mensagem de marketing dependerá do público-alvo e dos objetivos da empresa. No entanto, essas duas opções são um bom ponto de partida.'"
            ],
            "application/vnd.google.colaboratory.intrinsic+json": {
              "type": "string"
            }
          },
          "metadata": {},
          "execution_count": 13
        }
      ]
    },
    {
      "cell_type": "code",
      "source": [
        "dados_clientes['Status'][2]"
      ],
      "metadata": {
        "colab": {
          "base_uri": "https://localhost:8080/",
          "height": 90
        },
        "id": "fF3c0QbZx1ic",
        "outputId": "e89f5285-37a0-4490-e807-7b60db853f2d"
      },
      "execution_count": null,
      "outputs": [
        {
          "output_type": "execute_result",
          "data": {
            "text/plain": [
              "'Aqui está uma mensagem de marketing de 1 linha oferecendo um empréstimo para pagar as contas:\\n\\n**Pague as contas com um empréstimo rápido e fácil.**\\n\\nEssa mensagem é simples e direta, e vai direto ao ponto. Ela chama a atenção do leitor e transmite a mensagem de que o empréstimo é uma solução rápida e fácil para pagar as contas.\\n\\nOutra opção é:\\n\\n**Empréstimo para pagar as contas**\\n\\nEssa mensagem é ainda mais curta e direta, mas ainda transmite a mensagem de que o empréstimo é uma solução para quem precisa de dinheiro para pagar as contas.\\n\\nA melhor mensagem de marketing dependerá do público-alvo e dos objetivos da empresa. No entanto, essas duas opções são um bom ponto de partida.'"
            ],
            "application/vnd.google.colaboratory.intrinsic+json": {
              "type": "string"
            }
          },
          "metadata": {},
          "execution_count": 12
        }
      ]
    },
    {
      "cell_type": "markdown",
      "source": [
        "Verificamos que há um padrão nas respostas, e o texto que nos interessa se encontra entre '**'.  \n",
        "Vamos então criar uma função para extrai-lo, usando o método find:"
      ],
      "metadata": {
        "id": "P3JErB1dx4Sz"
      }
    },
    {
      "cell_type": "code",
      "source": [
        "def extrair_texto(texto):\n",
        "\n",
        "  inicio = texto.find('**') # para encontrar a sequência de caracteres '**'\n",
        "  fim = texto.find('**', inicio + 2) # para encontrar a próxima sequência de caracteres '**'\n",
        "\n",
        "  if inicio == -1 or fim == -1: # caso a função não encontre '**':\n",
        "    return 'O banco agradece por ter você como nosso cliente!'\n",
        "  else:\n",
        "    return texto[inicio + 2:fim] # retorna o texto entre os caracteres '**'"
      ],
      "metadata": {
        "id": "ATzGx3aN0ABs"
      },
      "execution_count": null,
      "outputs": []
    },
    {
      "cell_type": "markdown",
      "source": [
        "Vamos utilizar a função map novamente para criar uma coluna com as mensagens que extrairmos:"
      ],
      "metadata": {
        "id": "RkKQLgiD1Bu9"
      }
    },
    {
      "cell_type": "code",
      "source": [
        "dados_clientes['Mensagem'] = list(map(extrair_texto,dados_clientes['Status']))\n",
        "dados_clientes"
      ],
      "metadata": {
        "colab": {
          "base_uri": "https://localhost:8080/",
          "height": 394
        },
        "id": "GP7TFOu-1BAb",
        "outputId": "ed2163f5-ba94-4783-c0d1-b1eb91f52016"
      },
      "execution_count": null,
      "outputs": [
        {
          "output_type": "execute_result",
          "data": {
            "text/plain": [
              "    ID  SaldoConta  FaturaCartao  \\\n",
              "0    0       39.30        740.36   \n",
              "1    1      963.75        128.60   \n",
              "2    2      389.44        758.26   \n",
              "3    3      559.16        637.64   \n",
              "4    4       81.20        683.03   \n",
              "5    5       15.67        962.01   \n",
              "6    6      987.28        354.49   \n",
              "7    7       64.19        468.37   \n",
              "8    8      716.16        286.11   \n",
              "9    9      454.85        163.26   \n",
              "10  10      176.51        265.17   \n",
              "\n",
              "                                               Status  \\\n",
              "0   Aqui está uma mensagem de marketing de 1 linha...   \n",
              "1                                         Cliente ok!   \n",
              "2   Aqui está uma mensagem de marketing de 1 linha...   \n",
              "3   Aqui está uma mensagem de marketing de 1 linha...   \n",
              "4   **Pague suas contas em dias.**\\n\\nEssa mensage...   \n",
              "5   **Dinheiro para as contas.**\\n\\nEssa mensagem ...   \n",
              "6                                         Cliente ok!   \n",
              "7   **Contas em dia, vida em dia.**\\n\\nEssa mensag...   \n",
              "8                                         Cliente ok!   \n",
              "9                                         Cliente ok!   \n",
              "10  **Pague suas contas sem estresse.**\\n\\nEssa me...   \n",
              "\n",
              "                                             Mensagem  \n",
              "0          Contas em atraso? Peça um empréstimo hoje!  \n",
              "1   O banco agradece por ter você como nosso cliente!  \n",
              "2   Pague as contas com um empréstimo rápido e fácil.  \n",
              "3                        Empréstimo para emergências.  \n",
              "4                          Pague suas contas em dias.  \n",
              "5                            Dinheiro para as contas.  \n",
              "6   O banco agradece por ter você como nosso cliente!  \n",
              "7                         Contas em dia, vida em dia.  \n",
              "8   O banco agradece por ter você como nosso cliente!  \n",
              "9   O banco agradece por ter você como nosso cliente!  \n",
              "10                    Pague suas contas sem estresse.  "
            ],
            "text/html": [
              "\n",
              "  <div id=\"df-05d69d2b-71ef-4333-829c-641e6fd30e1e\" class=\"colab-df-container\">\n",
              "    <div>\n",
              "<style scoped>\n",
              "    .dataframe tbody tr th:only-of-type {\n",
              "        vertical-align: middle;\n",
              "    }\n",
              "\n",
              "    .dataframe tbody tr th {\n",
              "        vertical-align: top;\n",
              "    }\n",
              "\n",
              "    .dataframe thead th {\n",
              "        text-align: right;\n",
              "    }\n",
              "</style>\n",
              "<table border=\"1\" class=\"dataframe\">\n",
              "  <thead>\n",
              "    <tr style=\"text-align: right;\">\n",
              "      <th></th>\n",
              "      <th>ID</th>\n",
              "      <th>SaldoConta</th>\n",
              "      <th>FaturaCartao</th>\n",
              "      <th>Status</th>\n",
              "      <th>Mensagem</th>\n",
              "    </tr>\n",
              "  </thead>\n",
              "  <tbody>\n",
              "    <tr>\n",
              "      <th>0</th>\n",
              "      <td>0</td>\n",
              "      <td>39.30</td>\n",
              "      <td>740.36</td>\n",
              "      <td>Aqui está uma mensagem de marketing de 1 linha...</td>\n",
              "      <td>Contas em atraso? Peça um empréstimo hoje!</td>\n",
              "    </tr>\n",
              "    <tr>\n",
              "      <th>1</th>\n",
              "      <td>1</td>\n",
              "      <td>963.75</td>\n",
              "      <td>128.60</td>\n",
              "      <td>Cliente ok!</td>\n",
              "      <td>O banco agradece por ter você como nosso cliente!</td>\n",
              "    </tr>\n",
              "    <tr>\n",
              "      <th>2</th>\n",
              "      <td>2</td>\n",
              "      <td>389.44</td>\n",
              "      <td>758.26</td>\n",
              "      <td>Aqui está uma mensagem de marketing de 1 linha...</td>\n",
              "      <td>Pague as contas com um empréstimo rápido e fácil.</td>\n",
              "    </tr>\n",
              "    <tr>\n",
              "      <th>3</th>\n",
              "      <td>3</td>\n",
              "      <td>559.16</td>\n",
              "      <td>637.64</td>\n",
              "      <td>Aqui está uma mensagem de marketing de 1 linha...</td>\n",
              "      <td>Empréstimo para emergências.</td>\n",
              "    </tr>\n",
              "    <tr>\n",
              "      <th>4</th>\n",
              "      <td>4</td>\n",
              "      <td>81.20</td>\n",
              "      <td>683.03</td>\n",
              "      <td>**Pague suas contas em dias.**\\n\\nEssa mensage...</td>\n",
              "      <td>Pague suas contas em dias.</td>\n",
              "    </tr>\n",
              "    <tr>\n",
              "      <th>5</th>\n",
              "      <td>5</td>\n",
              "      <td>15.67</td>\n",
              "      <td>962.01</td>\n",
              "      <td>**Dinheiro para as contas.**\\n\\nEssa mensagem ...</td>\n",
              "      <td>Dinheiro para as contas.</td>\n",
              "    </tr>\n",
              "    <tr>\n",
              "      <th>6</th>\n",
              "      <td>6</td>\n",
              "      <td>987.28</td>\n",
              "      <td>354.49</td>\n",
              "      <td>Cliente ok!</td>\n",
              "      <td>O banco agradece por ter você como nosso cliente!</td>\n",
              "    </tr>\n",
              "    <tr>\n",
              "      <th>7</th>\n",
              "      <td>7</td>\n",
              "      <td>64.19</td>\n",
              "      <td>468.37</td>\n",
              "      <td>**Contas em dia, vida em dia.**\\n\\nEssa mensag...</td>\n",
              "      <td>Contas em dia, vida em dia.</td>\n",
              "    </tr>\n",
              "    <tr>\n",
              "      <th>8</th>\n",
              "      <td>8</td>\n",
              "      <td>716.16</td>\n",
              "      <td>286.11</td>\n",
              "      <td>Cliente ok!</td>\n",
              "      <td>O banco agradece por ter você como nosso cliente!</td>\n",
              "    </tr>\n",
              "    <tr>\n",
              "      <th>9</th>\n",
              "      <td>9</td>\n",
              "      <td>454.85</td>\n",
              "      <td>163.26</td>\n",
              "      <td>Cliente ok!</td>\n",
              "      <td>O banco agradece por ter você como nosso cliente!</td>\n",
              "    </tr>\n",
              "    <tr>\n",
              "      <th>10</th>\n",
              "      <td>10</td>\n",
              "      <td>176.51</td>\n",
              "      <td>265.17</td>\n",
              "      <td>**Pague suas contas sem estresse.**\\n\\nEssa me...</td>\n",
              "      <td>Pague suas contas sem estresse.</td>\n",
              "    </tr>\n",
              "  </tbody>\n",
              "</table>\n",
              "</div>\n",
              "    <div class=\"colab-df-buttons\">\n",
              "\n",
              "  <div class=\"colab-df-container\">\n",
              "    <button class=\"colab-df-convert\" onclick=\"convertToInteractive('df-05d69d2b-71ef-4333-829c-641e6fd30e1e')\"\n",
              "            title=\"Convert this dataframe to an interactive table.\"\n",
              "            style=\"display:none;\">\n",
              "\n",
              "  <svg xmlns=\"http://www.w3.org/2000/svg\" height=\"24px\" viewBox=\"0 -960 960 960\">\n",
              "    <path d=\"M120-120v-720h720v720H120Zm60-500h600v-160H180v160Zm220 220h160v-160H400v160Zm0 220h160v-160H400v160ZM180-400h160v-160H180v160Zm440 0h160v-160H620v160ZM180-180h160v-160H180v160Zm440 0h160v-160H620v160Z\"/>\n",
              "  </svg>\n",
              "    </button>\n",
              "\n",
              "  <style>\n",
              "    .colab-df-container {\n",
              "      display:flex;\n",
              "      gap: 12px;\n",
              "    }\n",
              "\n",
              "    .colab-df-convert {\n",
              "      background-color: #E8F0FE;\n",
              "      border: none;\n",
              "      border-radius: 50%;\n",
              "      cursor: pointer;\n",
              "      display: none;\n",
              "      fill: #1967D2;\n",
              "      height: 32px;\n",
              "      padding: 0 0 0 0;\n",
              "      width: 32px;\n",
              "    }\n",
              "\n",
              "    .colab-df-convert:hover {\n",
              "      background-color: #E2EBFA;\n",
              "      box-shadow: 0px 1px 2px rgba(60, 64, 67, 0.3), 0px 1px 3px 1px rgba(60, 64, 67, 0.15);\n",
              "      fill: #174EA6;\n",
              "    }\n",
              "\n",
              "    .colab-df-buttons div {\n",
              "      margin-bottom: 4px;\n",
              "    }\n",
              "\n",
              "    [theme=dark] .colab-df-convert {\n",
              "      background-color: #3B4455;\n",
              "      fill: #D2E3FC;\n",
              "    }\n",
              "\n",
              "    [theme=dark] .colab-df-convert:hover {\n",
              "      background-color: #434B5C;\n",
              "      box-shadow: 0px 1px 3px 1px rgba(0, 0, 0, 0.15);\n",
              "      filter: drop-shadow(0px 1px 2px rgba(0, 0, 0, 0.3));\n",
              "      fill: #FFFFFF;\n",
              "    }\n",
              "  </style>\n",
              "\n",
              "    <script>\n",
              "      const buttonEl =\n",
              "        document.querySelector('#df-05d69d2b-71ef-4333-829c-641e6fd30e1e button.colab-df-convert');\n",
              "      buttonEl.style.display =\n",
              "        google.colab.kernel.accessAllowed ? 'block' : 'none';\n",
              "\n",
              "      async function convertToInteractive(key) {\n",
              "        const element = document.querySelector('#df-05d69d2b-71ef-4333-829c-641e6fd30e1e');\n",
              "        const dataTable =\n",
              "          await google.colab.kernel.invokeFunction('convertToInteractive',\n",
              "                                                    [key], {});\n",
              "        if (!dataTable) return;\n",
              "\n",
              "        const docLinkHtml = 'Like what you see? Visit the ' +\n",
              "          '<a target=\"_blank\" href=https://colab.research.google.com/notebooks/data_table.ipynb>data table notebook</a>'\n",
              "          + ' to learn more about interactive tables.';\n",
              "        element.innerHTML = '';\n",
              "        dataTable['output_type'] = 'display_data';\n",
              "        await google.colab.output.renderOutput(dataTable, element);\n",
              "        const docLink = document.createElement('div');\n",
              "        docLink.innerHTML = docLinkHtml;\n",
              "        element.appendChild(docLink);\n",
              "      }\n",
              "    </script>\n",
              "  </div>\n",
              "\n",
              "\n",
              "<div id=\"df-5c5feede-0dc2-4ca7-8093-0bdb2683f155\">\n",
              "  <button class=\"colab-df-quickchart\" onclick=\"quickchart('df-5c5feede-0dc2-4ca7-8093-0bdb2683f155')\"\n",
              "            title=\"Suggest charts.\"\n",
              "            style=\"display:none;\">\n",
              "\n",
              "<svg xmlns=\"http://www.w3.org/2000/svg\" height=\"24px\"viewBox=\"0 0 24 24\"\n",
              "     width=\"24px\">\n",
              "    <g>\n",
              "        <path d=\"M19 3H5c-1.1 0-2 .9-2 2v14c0 1.1.9 2 2 2h14c1.1 0 2-.9 2-2V5c0-1.1-.9-2-2-2zM9 17H7v-7h2v7zm4 0h-2V7h2v10zm4 0h-2v-4h2v4z\"/>\n",
              "    </g>\n",
              "</svg>\n",
              "  </button>\n",
              "\n",
              "<style>\n",
              "  .colab-df-quickchart {\n",
              "    background-color: #E8F0FE;\n",
              "    border: none;\n",
              "    border-radius: 50%;\n",
              "    cursor: pointer;\n",
              "    display: none;\n",
              "    fill: #1967D2;\n",
              "    height: 32px;\n",
              "    padding: 0 0 0 0;\n",
              "    width: 32px;\n",
              "  }\n",
              "\n",
              "  .colab-df-quickchart:hover {\n",
              "    background-color: #E2EBFA;\n",
              "    box-shadow: 0px 1px 2px rgba(60, 64, 67, 0.3), 0px 1px 3px 1px rgba(60, 64, 67, 0.15);\n",
              "    fill: #174EA6;\n",
              "  }\n",
              "\n",
              "  [theme=dark] .colab-df-quickchart {\n",
              "    background-color: #3B4455;\n",
              "    fill: #D2E3FC;\n",
              "  }\n",
              "\n",
              "  [theme=dark] .colab-df-quickchart:hover {\n",
              "    background-color: #434B5C;\n",
              "    box-shadow: 0px 1px 3px 1px rgba(0, 0, 0, 0.15);\n",
              "    filter: drop-shadow(0px 1px 2px rgba(0, 0, 0, 0.3));\n",
              "    fill: #FFFFFF;\n",
              "  }\n",
              "</style>\n",
              "\n",
              "  <script>\n",
              "    async function quickchart(key) {\n",
              "      const charts = await google.colab.kernel.invokeFunction(\n",
              "          'suggestCharts', [key], {});\n",
              "    }\n",
              "    (() => {\n",
              "      let quickchartButtonEl =\n",
              "        document.querySelector('#df-5c5feede-0dc2-4ca7-8093-0bdb2683f155 button');\n",
              "      quickchartButtonEl.style.display =\n",
              "        google.colab.kernel.accessAllowed ? 'block' : 'none';\n",
              "    })();\n",
              "  </script>\n",
              "</div>\n",
              "    </div>\n",
              "  </div>\n"
            ]
          },
          "metadata": {},
          "execution_count": 15
        }
      ]
    },
    {
      "cell_type": "markdown",
      "source": [
        "Agora apagaremos a coluna 'Status':"
      ],
      "metadata": {
        "id": "hJ_yvZ4X2NOO"
      }
    },
    {
      "cell_type": "code",
      "source": [
        "dados_clientes.drop(columns='Status', inplace = True)\n",
        "dados_clientes"
      ],
      "metadata": {
        "colab": {
          "base_uri": "https://localhost:8080/",
          "height": 394
        },
        "id": "Qzfydatj2RBb",
        "outputId": "52f308c3-1933-4249-9fbd-6578ec6bf5a1"
      },
      "execution_count": null,
      "outputs": [
        {
          "output_type": "execute_result",
          "data": {
            "text/plain": [
              "    ID  SaldoConta  FaturaCartao  \\\n",
              "0    0       39.30        740.36   \n",
              "1    1      963.75        128.60   \n",
              "2    2      389.44        758.26   \n",
              "3    3      559.16        637.64   \n",
              "4    4       81.20        683.03   \n",
              "5    5       15.67        962.01   \n",
              "6    6      987.28        354.49   \n",
              "7    7       64.19        468.37   \n",
              "8    8      716.16        286.11   \n",
              "9    9      454.85        163.26   \n",
              "10  10      176.51        265.17   \n",
              "\n",
              "                                             Mensagem  \n",
              "0          Contas em atraso? Peça um empréstimo hoje!  \n",
              "1   O banco agradece por ter você como nosso cliente!  \n",
              "2   Pague as contas com um empréstimo rápido e fácil.  \n",
              "3                        Empréstimo para emergências.  \n",
              "4                          Pague suas contas em dias.  \n",
              "5                            Dinheiro para as contas.  \n",
              "6   O banco agradece por ter você como nosso cliente!  \n",
              "7                         Contas em dia, vida em dia.  \n",
              "8   O banco agradece por ter você como nosso cliente!  \n",
              "9   O banco agradece por ter você como nosso cliente!  \n",
              "10                    Pague suas contas sem estresse.  "
            ],
            "text/html": [
              "\n",
              "  <div id=\"df-78e12460-fc8d-41f5-a39d-7cf779fa46dc\" class=\"colab-df-container\">\n",
              "    <div>\n",
              "<style scoped>\n",
              "    .dataframe tbody tr th:only-of-type {\n",
              "        vertical-align: middle;\n",
              "    }\n",
              "\n",
              "    .dataframe tbody tr th {\n",
              "        vertical-align: top;\n",
              "    }\n",
              "\n",
              "    .dataframe thead th {\n",
              "        text-align: right;\n",
              "    }\n",
              "</style>\n",
              "<table border=\"1\" class=\"dataframe\">\n",
              "  <thead>\n",
              "    <tr style=\"text-align: right;\">\n",
              "      <th></th>\n",
              "      <th>ID</th>\n",
              "      <th>SaldoConta</th>\n",
              "      <th>FaturaCartao</th>\n",
              "      <th>Mensagem</th>\n",
              "    </tr>\n",
              "  </thead>\n",
              "  <tbody>\n",
              "    <tr>\n",
              "      <th>0</th>\n",
              "      <td>0</td>\n",
              "      <td>39.30</td>\n",
              "      <td>740.36</td>\n",
              "      <td>Contas em atraso? Peça um empréstimo hoje!</td>\n",
              "    </tr>\n",
              "    <tr>\n",
              "      <th>1</th>\n",
              "      <td>1</td>\n",
              "      <td>963.75</td>\n",
              "      <td>128.60</td>\n",
              "      <td>O banco agradece por ter você como nosso cliente!</td>\n",
              "    </tr>\n",
              "    <tr>\n",
              "      <th>2</th>\n",
              "      <td>2</td>\n",
              "      <td>389.44</td>\n",
              "      <td>758.26</td>\n",
              "      <td>Pague as contas com um empréstimo rápido e fácil.</td>\n",
              "    </tr>\n",
              "    <tr>\n",
              "      <th>3</th>\n",
              "      <td>3</td>\n",
              "      <td>559.16</td>\n",
              "      <td>637.64</td>\n",
              "      <td>Empréstimo para emergências.</td>\n",
              "    </tr>\n",
              "    <tr>\n",
              "      <th>4</th>\n",
              "      <td>4</td>\n",
              "      <td>81.20</td>\n",
              "      <td>683.03</td>\n",
              "      <td>Pague suas contas em dias.</td>\n",
              "    </tr>\n",
              "    <tr>\n",
              "      <th>5</th>\n",
              "      <td>5</td>\n",
              "      <td>15.67</td>\n",
              "      <td>962.01</td>\n",
              "      <td>Dinheiro para as contas.</td>\n",
              "    </tr>\n",
              "    <tr>\n",
              "      <th>6</th>\n",
              "      <td>6</td>\n",
              "      <td>987.28</td>\n",
              "      <td>354.49</td>\n",
              "      <td>O banco agradece por ter você como nosso cliente!</td>\n",
              "    </tr>\n",
              "    <tr>\n",
              "      <th>7</th>\n",
              "      <td>7</td>\n",
              "      <td>64.19</td>\n",
              "      <td>468.37</td>\n",
              "      <td>Contas em dia, vida em dia.</td>\n",
              "    </tr>\n",
              "    <tr>\n",
              "      <th>8</th>\n",
              "      <td>8</td>\n",
              "      <td>716.16</td>\n",
              "      <td>286.11</td>\n",
              "      <td>O banco agradece por ter você como nosso cliente!</td>\n",
              "    </tr>\n",
              "    <tr>\n",
              "      <th>9</th>\n",
              "      <td>9</td>\n",
              "      <td>454.85</td>\n",
              "      <td>163.26</td>\n",
              "      <td>O banco agradece por ter você como nosso cliente!</td>\n",
              "    </tr>\n",
              "    <tr>\n",
              "      <th>10</th>\n",
              "      <td>10</td>\n",
              "      <td>176.51</td>\n",
              "      <td>265.17</td>\n",
              "      <td>Pague suas contas sem estresse.</td>\n",
              "    </tr>\n",
              "  </tbody>\n",
              "</table>\n",
              "</div>\n",
              "    <div class=\"colab-df-buttons\">\n",
              "\n",
              "  <div class=\"colab-df-container\">\n",
              "    <button class=\"colab-df-convert\" onclick=\"convertToInteractive('df-78e12460-fc8d-41f5-a39d-7cf779fa46dc')\"\n",
              "            title=\"Convert this dataframe to an interactive table.\"\n",
              "            style=\"display:none;\">\n",
              "\n",
              "  <svg xmlns=\"http://www.w3.org/2000/svg\" height=\"24px\" viewBox=\"0 -960 960 960\">\n",
              "    <path d=\"M120-120v-720h720v720H120Zm60-500h600v-160H180v160Zm220 220h160v-160H400v160Zm0 220h160v-160H400v160ZM180-400h160v-160H180v160Zm440 0h160v-160H620v160ZM180-180h160v-160H180v160Zm440 0h160v-160H620v160Z\"/>\n",
              "  </svg>\n",
              "    </button>\n",
              "\n",
              "  <style>\n",
              "    .colab-df-container {\n",
              "      display:flex;\n",
              "      gap: 12px;\n",
              "    }\n",
              "\n",
              "    .colab-df-convert {\n",
              "      background-color: #E8F0FE;\n",
              "      border: none;\n",
              "      border-radius: 50%;\n",
              "      cursor: pointer;\n",
              "      display: none;\n",
              "      fill: #1967D2;\n",
              "      height: 32px;\n",
              "      padding: 0 0 0 0;\n",
              "      width: 32px;\n",
              "    }\n",
              "\n",
              "    .colab-df-convert:hover {\n",
              "      background-color: #E2EBFA;\n",
              "      box-shadow: 0px 1px 2px rgba(60, 64, 67, 0.3), 0px 1px 3px 1px rgba(60, 64, 67, 0.15);\n",
              "      fill: #174EA6;\n",
              "    }\n",
              "\n",
              "    .colab-df-buttons div {\n",
              "      margin-bottom: 4px;\n",
              "    }\n",
              "\n",
              "    [theme=dark] .colab-df-convert {\n",
              "      background-color: #3B4455;\n",
              "      fill: #D2E3FC;\n",
              "    }\n",
              "\n",
              "    [theme=dark] .colab-df-convert:hover {\n",
              "      background-color: #434B5C;\n",
              "      box-shadow: 0px 1px 3px 1px rgba(0, 0, 0, 0.15);\n",
              "      filter: drop-shadow(0px 1px 2px rgba(0, 0, 0, 0.3));\n",
              "      fill: #FFFFFF;\n",
              "    }\n",
              "  </style>\n",
              "\n",
              "    <script>\n",
              "      const buttonEl =\n",
              "        document.querySelector('#df-78e12460-fc8d-41f5-a39d-7cf779fa46dc button.colab-df-convert');\n",
              "      buttonEl.style.display =\n",
              "        google.colab.kernel.accessAllowed ? 'block' : 'none';\n",
              "\n",
              "      async function convertToInteractive(key) {\n",
              "        const element = document.querySelector('#df-78e12460-fc8d-41f5-a39d-7cf779fa46dc');\n",
              "        const dataTable =\n",
              "          await google.colab.kernel.invokeFunction('convertToInteractive',\n",
              "                                                    [key], {});\n",
              "        if (!dataTable) return;\n",
              "\n",
              "        const docLinkHtml = 'Like what you see? Visit the ' +\n",
              "          '<a target=\"_blank\" href=https://colab.research.google.com/notebooks/data_table.ipynb>data table notebook</a>'\n",
              "          + ' to learn more about interactive tables.';\n",
              "        element.innerHTML = '';\n",
              "        dataTable['output_type'] = 'display_data';\n",
              "        await google.colab.output.renderOutput(dataTable, element);\n",
              "        const docLink = document.createElement('div');\n",
              "        docLink.innerHTML = docLinkHtml;\n",
              "        element.appendChild(docLink);\n",
              "      }\n",
              "    </script>\n",
              "  </div>\n",
              "\n",
              "\n",
              "<div id=\"df-356e106a-7282-45c1-a658-a55ddbe8ac24\">\n",
              "  <button class=\"colab-df-quickchart\" onclick=\"quickchart('df-356e106a-7282-45c1-a658-a55ddbe8ac24')\"\n",
              "            title=\"Suggest charts.\"\n",
              "            style=\"display:none;\">\n",
              "\n",
              "<svg xmlns=\"http://www.w3.org/2000/svg\" height=\"24px\"viewBox=\"0 0 24 24\"\n",
              "     width=\"24px\">\n",
              "    <g>\n",
              "        <path d=\"M19 3H5c-1.1 0-2 .9-2 2v14c0 1.1.9 2 2 2h14c1.1 0 2-.9 2-2V5c0-1.1-.9-2-2-2zM9 17H7v-7h2v7zm4 0h-2V7h2v10zm4 0h-2v-4h2v4z\"/>\n",
              "    </g>\n",
              "</svg>\n",
              "  </button>\n",
              "\n",
              "<style>\n",
              "  .colab-df-quickchart {\n",
              "    background-color: #E8F0FE;\n",
              "    border: none;\n",
              "    border-radius: 50%;\n",
              "    cursor: pointer;\n",
              "    display: none;\n",
              "    fill: #1967D2;\n",
              "    height: 32px;\n",
              "    padding: 0 0 0 0;\n",
              "    width: 32px;\n",
              "  }\n",
              "\n",
              "  .colab-df-quickchart:hover {\n",
              "    background-color: #E2EBFA;\n",
              "    box-shadow: 0px 1px 2px rgba(60, 64, 67, 0.3), 0px 1px 3px 1px rgba(60, 64, 67, 0.15);\n",
              "    fill: #174EA6;\n",
              "  }\n",
              "\n",
              "  [theme=dark] .colab-df-quickchart {\n",
              "    background-color: #3B4455;\n",
              "    fill: #D2E3FC;\n",
              "  }\n",
              "\n",
              "  [theme=dark] .colab-df-quickchart:hover {\n",
              "    background-color: #434B5C;\n",
              "    box-shadow: 0px 1px 3px 1px rgba(0, 0, 0, 0.15);\n",
              "    filter: drop-shadow(0px 1px 2px rgba(0, 0, 0, 0.3));\n",
              "    fill: #FFFFFF;\n",
              "  }\n",
              "</style>\n",
              "\n",
              "  <script>\n",
              "    async function quickchart(key) {\n",
              "      const charts = await google.colab.kernel.invokeFunction(\n",
              "          'suggestCharts', [key], {});\n",
              "    }\n",
              "    (() => {\n",
              "      let quickchartButtonEl =\n",
              "        document.querySelector('#df-356e106a-7282-45c1-a658-a55ddbe8ac24 button');\n",
              "      quickchartButtonEl.style.display =\n",
              "        google.colab.kernel.accessAllowed ? 'block' : 'none';\n",
              "    })();\n",
              "  </script>\n",
              "</div>\n",
              "    </div>\n",
              "  </div>\n"
            ]
          },
          "metadata": {},
          "execution_count": 16
        }
      ]
    },
    {
      "cell_type": "markdown",
      "source": [
        "# LOAD"
      ],
      "metadata": {
        "id": "RqyDmqRCltHr"
      }
    },
    {
      "cell_type": "markdown",
      "source": [
        "Finalmente, podemos carregar os novos dados para um arquivo CSV:"
      ],
      "metadata": {
        "id": "LbMZ1WNDluyh"
      }
    },
    {
      "cell_type": "code",
      "source": [
        "try:\n",
        "  dados_clientes.to_csv('dados_clientes_atualizados.csv', index=False)\n",
        "  print('Dados gravados em arquivo csv.')\n",
        "except:\n",
        "  print('Os dados não foram gravados.')"
      ],
      "metadata": {
        "colab": {
          "base_uri": "https://localhost:8080/"
        },
        "id": "ZTi9IfJwfCax",
        "outputId": "f07ab033-7fe7-47e7-9f5e-e5028f4cede0"
      },
      "execution_count": null,
      "outputs": [
        {
          "output_type": "stream",
          "name": "stdout",
          "text": [
            "Dados gravados em arquivo csv.\n"
          ]
        }
      ]
    }
  ]
}